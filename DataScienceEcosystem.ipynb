{
 "cells": [
  {
   "cell_type": "markdown",
   "id": "e7368750",
   "metadata": {},
   "source": [
    "<b> Exercise 1: Create a Jupyter Notebook"
   ]
  },
  {
   "cell_type": "markdown",
   "id": "5ed34424",
   "metadata": {},
   "source": [
    "<b> Exercise 2: Create markdown cell with title of the notebook"
   ]
  },
  {
   "cell_type": "markdown",
   "id": "d794fb4a",
   "metadata": {},
   "source": [
    "## Data Science Tools and Ecosystem"
   ]
  },
  {
   "cell_type": "markdown",
   "id": "4404e189",
   "metadata": {},
   "source": [
    "<b> Exercise 3 - Create a markdown cell for an introduction"
   ]
  },
  {
   "cell_type": "markdown",
   "id": "1f8fcfd4",
   "metadata": {},
   "source": [
    "In this notebook, Data Science Tools and Ecosystem are summarized."
   ]
  },
  {
   "cell_type": "markdown",
   "id": "a32e556c",
   "metadata": {},
   "source": [
    "<b> Exercise 10 - Insert a markdown cell to list Objectives"
   ]
  },
  {
   "cell_type": "markdown",
   "id": "df14abf6",
   "metadata": {},
   "source": [
    "<b> Objectives:\n",
    " - List popular languages that Data Scientists use.\n",
    " - List commonly used libraries used by Data Scientists.\n",
    " - Comment on Data Science tools.\n",
    " - Practice some arithmetic expressions in Python.\n"
   ]
  },
  {
   "cell_type": "markdown",
   "id": "84491592",
   "metadata": {},
   "source": [
    "<b> Exercise 4 - Create a markdown cell to list data science languages"
   ]
  },
  {
   "cell_type": "markdown",
   "id": "47ff4fc2",
   "metadata": {},
   "source": [
    "Some of the popular languages that Data Scientists use are:"
   ]
  },
  {
   "cell_type": "markdown",
   "id": "36d529d5",
   "metadata": {},
   "source": [
    "1. Python\n",
    "2. R\n",
    "3. SQL\n",
    "4. Java\n",
    "5. Julia\n",
    "6. Scala\n",
    "7. C/C++\n",
    "8. JavaScript"
   ]
  },
  {
   "cell_type": "markdown",
   "id": "7c57f56f",
   "metadata": {},
   "source": [
    "<b> Exercise 5 - Create a markdown cell to list data science libraries"
   ]
  },
  {
   "cell_type": "markdown",
   "id": "2429bf0b",
   "metadata": {},
   "source": [
    "Some of the commonly used libraries used by Data Scientists include:"
   ]
  },
  {
   "cell_type": "markdown",
   "id": "64c8f686",
   "metadata": {},
   "source": [
    "1. TensorFlow\n",
    "2. NumPy\n",
    "3. SciPy\n",
    "4. Pandas\n",
    "5. Matplotlib\n",
    "6. Keras\n",
    "7. SciKit-Learn\n",
    "8. PyTorch\n",
    "9. Scrapy\n",
    "10. BeautifulSoup\n",
    "11. LightGBM\n",
    "12. ELI5\n",
    "13. Theano\n",
    "14. NuPIC\n",
    "15. Ramp\n",
    "16. Pipenv\n",
    "17. Bob\n",
    "18. PyBrain\n",
    "19. Caffe2\n",
    "20. Chainer"
   ]
  },
  {
   "cell_type": "markdown",
   "id": "06553da6",
   "metadata": {},
   "source": [
    "<b> Exercise 6 - Create a markdown cell with a table of Data Science tools"
   ]
  },
  {
   "cell_type": "markdown",
   "id": "604b61c3",
   "metadata": {},
   "source": [
    "| Data Science Tools |\n",
    "| :---: |\n",
    "| SAS. (Statistical operations are handled specifically with this data science tool).|\n",
    "| Apache Spark|\n",
    "| BigML|"
   ]
  },
  {
   "cell_type": "markdown",
   "id": "3a967b2b",
   "metadata": {},
   "source": [
    "<b> Exercise 7 - Create a markdown cell introducing arithmetic expression examples"
   ]
  },
  {
   "cell_type": "markdown",
   "id": "c76468e9",
   "metadata": {},
   "source": [
    "### Below are a few examples of evaluating arithmetic expressions in Python"
   ]
  },
  {
   "cell_type": "markdown",
   "id": "0c9f8c9b",
   "metadata": {},
   "source": [
    "<b> Exercise 8 - Create a code cell to multiply and add numbers"
   ]
  },
  {
   "cell_type": "code",
   "execution_count": 6,
   "id": "8a711416",
   "metadata": {},
   "outputs": [
    {
     "data": {
      "text/plain": [
       "17"
      ]
     },
     "execution_count": 6,
     "metadata": {},
     "output_type": "execute_result"
    }
   ],
   "source": [
    "#This a simple arithmetic expression to mutiply then add integers\n",
    "(3*4)+5\n",
    "# Result: 17\n"
   ]
  },
  {
   "cell_type": "markdown",
   "id": "688a3d5d",
   "metadata": {},
   "source": [
    "<b> Exercise 9 - Create a code cell to convert minutes to hours"
   ]
  },
  {
   "cell_type": "code",
   "execution_count": 11,
   "id": "5b6cfd5a",
   "metadata": {},
   "outputs": [
    {
     "name": "stdout",
     "output_type": "stream",
     "text": [
      "3 hours and 20 minutes or 3.3333333333333335 hours\n"
     ]
    }
   ],
   "source": [
    "#This will convert 200 minutes to hours by diving by 60.\n",
    "minute = 200\n",
    "hours = minute//60\n",
    "minute_2 = minute%60\n",
    "hours_2=minute/60\n",
    "print(hours, 'hours and', minute_2, 'minutes or', hours_2, 'hours')\n",
    "#Result: 3 hours and 20 minutes or 3.33 hours"
   ]
  },
  {
   "cell_type": "markdown",
   "id": "218b9229",
   "metadata": {},
   "source": [
    "<b> Exercise 11 - Create a markdown cell to indicate the Author's name"
   ]
  },
  {
   "cell_type": "markdown",
   "id": "795c620a",
   "metadata": {},
   "source": [
    "## Author:\n",
    "Elaheh Samandi"
   ]
  },
  {
   "cell_type": "code",
   "execution_count": null,
   "id": "95f77e63",
   "metadata": {},
   "outputs": [],
   "source": []
  }
 ],
 "metadata": {
  "kernelspec": {
   "display_name": "Python 3 (ipykernel)",
   "language": "python",
   "name": "python3"
  },
  "language_info": {
   "codemirror_mode": {
    "name": "ipython",
    "version": 3
   },
   "file_extension": ".py",
   "mimetype": "text/x-python",
   "name": "python",
   "nbconvert_exporter": "python",
   "pygments_lexer": "ipython3",
   "version": "3.10.9"
  }
 },
 "nbformat": 4,
 "nbformat_minor": 5
}
